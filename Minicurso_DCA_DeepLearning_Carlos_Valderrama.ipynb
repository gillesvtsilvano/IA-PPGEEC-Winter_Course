{
  "nbformat": 4,
  "nbformat_minor": 0,
  "metadata": {
    "colab": {
      "name": "Minicurso DCA - DeepLearning - Carlos Valderrama.ipynb",
      "version": "0.3.2",
      "provenance": [],
      "include_colab_link": true
    },
    "kernelspec": {
      "name": "python3",
      "display_name": "Python 3"
    }
  },
  "cells": [
    {
      "cell_type": "markdown",
      "metadata": {
        "id": "view-in-github",
        "colab_type": "text"
      },
      "source": [
        "<a href=\"https://colab.research.google.com/github/gillesvtsilvano/IA-PPGEEC-Winter_Course/blob/master/Minicurso_DCA_DeepLearning_Carlos_Valderrama.ipynb\" target=\"_parent\"><img src=\"https://colab.research.google.com/assets/colab-badge.svg\" alt=\"Open In Colab\"/></a>"
      ]
    },
    {
      "cell_type": "markdown",
      "metadata": {
        "id": "5zK3nB-XW3ln",
        "colab_type": "text"
      },
      "source": [
        "# Introdução"
      ]
    },
    {
      "cell_type": "markdown",
      "metadata": {
        "id": "HYvSBjrcdeHj",
        "colab_type": "text"
      },
      "source": [
        "\n",
        "## Cada grupo terá sua Ferramenta\n",
        "- YOLO ([link](https://www.google.com/url?sa=t&rct=j&q=&esrc=s&source=web&cd=1&cad=rja&uact=8&ved=2ahUKEwjLz8jI7bbjAhUeHbkGHQrwDYQQFjAAegQIAhAB&url=https%3A%2F%2Fpjreddie.com%2Fyolo%2F&usg=AOvVaw0AqkWbgYp93A2pYBImeS2h))\n",
        "- TensorFlow ([link](https://www.tensorflow.org))\n",
        "- **Keras** ([link](http://keras.io)) - Gilles Silvano (FrontEnd)"
      ]
    },
    {
      "cell_type": "markdown",
      "metadata": {
        "id": "Mrl7-lgGde9c",
        "colab_type": "text"
      },
      "source": [
        "## Dataset\n",
        "\n",
        "MNIST\n",
        "\n"
      ]
    },
    {
      "cell_type": "code",
      "metadata": {
        "id": "6BPIzSvLsjS0",
        "colab_type": "code",
        "colab": {}
      },
      "source": [
        ""
      ],
      "execution_count": 0,
      "outputs": []
    }
  ]
}